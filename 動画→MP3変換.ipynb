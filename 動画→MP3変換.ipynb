{
  "nbformat": 4,
  "nbformat_minor": 0,
  "metadata": {
    "colab": {
      "provenance": [],
      "authorship_tag": "ABX9TyPL5cxuEfUfpmxpEEfDMABF",
      "include_colab_link": true
    },
    "kernelspec": {
      "name": "python3",
      "display_name": "Python 3"
    },
    "language_info": {
      "name": "python"
    }
  },
  "cells": [
    {
      "cell_type": "markdown",
      "metadata": {
        "id": "view-in-github",
        "colab_type": "text"
      },
      "source": [
        "<a href=\"https://colab.research.google.com/github/rancorder/automatepost/blob/main/%E5%8B%95%E7%94%BB%E2%86%92MP3%E5%A4%89%E6%8F%9B.ipynb\" target=\"_parent\"><img src=\"https://colab.research.google.com/assets/colab-badge.svg\" alt=\"Open In Colab\"/></a>"
      ]
    },
    {
      "cell_type": "markdown",
      "source": [
        "編集はしないようお願いいたします。\n",
        "20分程度の動画で10分掛かります。\n",
        "\n"
      ],
      "metadata": {
        "id": "33X0Cy28Q_DK"
      }
    },
    {
      "cell_type": "code",
      "source": [
        "import os\n",
        "import subprocess\n",
        "from google.colab import files\n",
        "\n",
        "def upload_video():\n",
        "\n",
        "    uploaded = files.upload()\n",
        "    for filename in uploaded.keys():\n",
        "        return filename\n",
        "\n",
        "def convert_to_mp3(video_path):\n",
        "    output_folder = \"output_mp3\"\n",
        "    if not os.path.exists(output_folder):\n",
        "        os.makedirs(output_folder)\n",
        "\n",
        "    output_path = os.path.join(output_folder, os.path.splitext(os.path.basename(video_path))[0] + \".mp3\")\n",
        "\n",
        "    try:\n",
        "        subprocess.run([\"ffmpeg\", \"-i\", video_path, \"-vn\", \"-acodec\", \"libmp3lame\", output_path], check=True)\n",
        "        print(f\"変換完了: {output_path}\")\n",
        "    except Exception as e:\n",
        "        print(f\"エラー: {video_path} の変換に失敗しました - {e}\")\n",
        "\n",
        "    return output_path\n",
        "\n",
        "\n",
        "!apt-get update\n",
        "!apt-get install -y ffmpeg\n",
        "\n",
        "print(\"動画ファイルをアップロードしてください\")\n",
        "video_file = upload_video()\n",
        "\n",
        "mp3_file = convert_to_mp3(video_file)\n",
        "\n",
        "files.download(mp3_file)\n"
      ],
      "metadata": {
        "id": "NOz0woLcRETc"
      },
      "execution_count": null,
      "outputs": []
    }
  ]
}